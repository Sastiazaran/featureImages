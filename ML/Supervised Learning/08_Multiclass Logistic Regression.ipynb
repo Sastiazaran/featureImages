{
 "cells": [
  {
   "attachments": {},
   "cell_type": "markdown",
   "metadata": {},
   "source": [
    "# Multinomial logistic regression\n",
    "\n",
    "Multinomial logistic regression is used to predict categorical placement in or the probability of category membership on a dependent variable based on multiple independent variables. The independent variables can be either dichotomous (i.e., binary) or continuous (i.e., interval or ratio in scale). Multinomial logistic regression is a simple extension of binary logistic regression that allows for more than two categories of the dependent or outcome variable. Like binary logistic regression, multinomial logistic regression uses maximum likelihood estimation to evaluate the probability of categorical membership.   \n",
    "\n",
    "Multinomial logistic regression does necessitate careful consideration of the sample size and examination for outlying cases. Like other data analysis procedures, initial data analysis should be thorough and include careful univariate, bivariate, and multivariate assessment. Specifically, multicollinearity should be evaluated with simple correlations among the independent variables. Also, multivariate diagnostics (i.e. standard multiple regression) can be used to assess for multivariate outliers and for the exclusion of outliers or influential cases. Sample size guidelines for multinomial logistic regression indicate a minimum of 10 cases per independent variable (Schwab, 2002).  "
   ]
  },
  {
   "cell_type": "code",
   "execution_count": 7,
   "metadata": {},
   "outputs": [
    {
     "name": "stdout",
     "output_type": "stream",
     "text": [
      "Requirement already satisfied: ipywidgets in c:\\users\\sebas\\appdata\\local\\programs\\python\\python311\\lib\\site-packages (8.0.6)\n",
      "Requirement already satisfied: ipykernel>=4.5.1 in c:\\users\\sebas\\appdata\\roaming\\python\\python311\\site-packages (from ipywidgets) (6.22.0)\n",
      "Requirement already satisfied: ipython>=6.1.0 in c:\\users\\sebas\\appdata\\roaming\\python\\python311\\site-packages (from ipywidgets) (8.12.0)\n",
      "Requirement already satisfied: traitlets>=4.3.1 in c:\\users\\sebas\\appdata\\roaming\\python\\python311\\site-packages (from ipywidgets) (5.9.0)\n",
      "Requirement already satisfied: widgetsnbextension~=4.0.7 in c:\\users\\sebas\\appdata\\local\\programs\\python\\python311\\lib\\site-packages (from ipywidgets) (4.0.7)\n",
      "Requirement already satisfied: jupyterlab-widgets~=3.0.7 in c:\\users\\sebas\\appdata\\local\\programs\\python\\python311\\lib\\site-packages (from ipywidgets) (3.0.7)\n",
      "Requirement already satisfied: comm>=0.1.1 in c:\\users\\sebas\\appdata\\roaming\\python\\python311\\site-packages (from ipykernel>=4.5.1->ipywidgets) (0.1.3)\n",
      "Requirement already satisfied: debugpy>=1.6.5 in c:\\users\\sebas\\appdata\\roaming\\python\\python311\\site-packages (from ipykernel>=4.5.1->ipywidgets) (1.6.7)\n",
      "Requirement already satisfied: jupyter-client>=6.1.12 in c:\\users\\sebas\\appdata\\roaming\\python\\python311\\site-packages (from ipykernel>=4.5.1->ipywidgets) (8.2.0)\n",
      "Requirement already satisfied: jupyter-core!=5.0.*,>=4.12 in c:\\users\\sebas\\appdata\\roaming\\python\\python311\\site-packages (from ipykernel>=4.5.1->ipywidgets) (5.3.0)\n",
      "Requirement already satisfied: matplotlib-inline>=0.1 in c:\\users\\sebas\\appdata\\roaming\\python\\python311\\site-packages (from ipykernel>=4.5.1->ipywidgets) (0.1.6)\n",
      "Requirement already satisfied: nest-asyncio in c:\\users\\sebas\\appdata\\roaming\\python\\python311\\site-packages (from ipykernel>=4.5.1->ipywidgets) (1.5.6)\n",
      "Requirement already satisfied: packaging in c:\\users\\sebas\\appdata\\local\\programs\\python\\python311\\lib\\site-packages (from ipykernel>=4.5.1->ipywidgets) (23.0)\n",
      "Requirement already satisfied: psutil in c:\\users\\sebas\\appdata\\roaming\\python\\python311\\site-packages (from ipykernel>=4.5.1->ipywidgets) (5.9.5)\n",
      "Requirement already satisfied: pyzmq>=20 in c:\\users\\sebas\\appdata\\roaming\\python\\python311\\site-packages (from ipykernel>=4.5.1->ipywidgets) (25.0.2)\n",
      "Requirement already satisfied: tornado>=6.1 in c:\\users\\sebas\\appdata\\roaming\\python\\python311\\site-packages (from ipykernel>=4.5.1->ipywidgets) (6.3.1)\n",
      "Requirement already satisfied: backcall in c:\\users\\sebas\\appdata\\roaming\\python\\python311\\site-packages (from ipython>=6.1.0->ipywidgets) (0.2.0)\n",
      "Requirement already satisfied: decorator in c:\\users\\sebas\\appdata\\roaming\\python\\python311\\site-packages (from ipython>=6.1.0->ipywidgets) (5.1.1)\n",
      "Requirement already satisfied: jedi>=0.16 in c:\\users\\sebas\\appdata\\roaming\\python\\python311\\site-packages (from ipython>=6.1.0->ipywidgets) (0.18.2)\n",
      "Requirement already satisfied: pickleshare in c:\\users\\sebas\\appdata\\roaming\\python\\python311\\site-packages (from ipython>=6.1.0->ipywidgets) (0.7.5)\n",
      "Requirement already satisfied: prompt-toolkit!=3.0.37,<3.1.0,>=3.0.30 in c:\\users\\sebas\\appdata\\roaming\\python\\python311\\site-packages (from ipython>=6.1.0->ipywidgets) (3.0.38)\n",
      "Requirement already satisfied: pygments>=2.4.0 in c:\\users\\sebas\\appdata\\roaming\\python\\python311\\site-packages (from ipython>=6.1.0->ipywidgets) (2.15.1)\n",
      "Requirement already satisfied: stack-data in c:\\users\\sebas\\appdata\\roaming\\python\\python311\\site-packages (from ipython>=6.1.0->ipywidgets) (0.6.2)\n",
      "Requirement already satisfied: colorama in c:\\users\\sebas\\appdata\\roaming\\python\\python311\\site-packages (from ipython>=6.1.0->ipywidgets) (0.4.6)\n",
      "Requirement already satisfied: parso<0.9.0,>=0.8.0 in c:\\users\\sebas\\appdata\\roaming\\python\\python311\\site-packages (from jedi>=0.16->ipython>=6.1.0->ipywidgets) (0.8.3)\n",
      "Requirement already satisfied: python-dateutil>=2.8.2 in c:\\users\\sebas\\appdata\\local\\programs\\python\\python311\\lib\\site-packages (from jupyter-client>=6.1.12->ipykernel>=4.5.1->ipywidgets) (2.8.2)\n",
      "Requirement already satisfied: platformdirs>=2.5 in c:\\users\\sebas\\appdata\\roaming\\python\\python311\\site-packages (from jupyter-core!=5.0.*,>=4.12->ipykernel>=4.5.1->ipywidgets) (3.2.0)\n",
      "Requirement already satisfied: pywin32>=300 in c:\\users\\sebas\\appdata\\roaming\\python\\python311\\site-packages (from jupyter-core!=5.0.*,>=4.12->ipykernel>=4.5.1->ipywidgets) (306)\n",
      "Requirement already satisfied: wcwidth in c:\\users\\sebas\\appdata\\roaming\\python\\python311\\site-packages (from prompt-toolkit!=3.0.37,<3.1.0,>=3.0.30->ipython>=6.1.0->ipywidgets) (0.2.6)\n",
      "Requirement already satisfied: executing>=1.2.0 in c:\\users\\sebas\\appdata\\roaming\\python\\python311\\site-packages (from stack-data->ipython>=6.1.0->ipywidgets) (1.2.0)\n",
      "Requirement already satisfied: asttokens>=2.1.0 in c:\\users\\sebas\\appdata\\roaming\\python\\python311\\site-packages (from stack-data->ipython>=6.1.0->ipywidgets) (2.2.1)\n",
      "Requirement already satisfied: pure-eval in c:\\users\\sebas\\appdata\\roaming\\python\\python311\\site-packages (from stack-data->ipython>=6.1.0->ipywidgets) (0.2.2)\n",
      "Requirement already satisfied: six in c:\\users\\sebas\\appdata\\local\\programs\\python\\python311\\lib\\site-packages (from asttokens>=2.1.0->stack-data->ipython>=6.1.0->ipywidgets) (1.16.0)\n",
      "Note: you may need to restart the kernel to use updated packages.\n"
     ]
    },
    {
     "name": "stderr",
     "output_type": "stream",
     "text": [
      "\n",
      "[notice] A new release of pip available: 22.3.1 -> 23.1.2\n",
      "[notice] To update, run: python.exe -m pip install --upgrade pip\n"
     ]
    },
    {
     "name": "stdout",
     "output_type": "stream",
     "text": [
      "Requirement already satisfied: scikit-learn in c:\\users\\sebas\\appdata\\local\\programs\\python\\python311\\lib\\site-packages (1.2.2)\n",
      "Requirement already satisfied: numpy>=1.17.3 in c:\\users\\sebas\\appdata\\local\\programs\\python\\python311\\lib\\site-packages (from scikit-learn) (1.24.2)\n",
      "Requirement already satisfied: scipy>=1.3.2 in c:\\users\\sebas\\appdata\\local\\programs\\python\\python311\\lib\\site-packages (from scikit-learn) (1.10.1)\n",
      "Requirement already satisfied: joblib>=1.1.1 in c:\\users\\sebas\\appdata\\local\\programs\\python\\python311\\lib\\site-packages (from scikit-learn) (1.2.0)\n",
      "Requirement already satisfied: threadpoolctl>=2.0.0 in c:\\users\\sebas\\appdata\\local\\programs\\python\\python311\\lib\\site-packages (from scikit-learn) (3.1.0)\n",
      "Note: you may need to restart the kernel to use updated packages.\n"
     ]
    },
    {
     "name": "stderr",
     "output_type": "stream",
     "text": [
      "\n",
      "[notice] A new release of pip available: 22.3.1 -> 23.1.2\n",
      "[notice] To update, run: python.exe -m pip install --upgrade pip\n"
     ]
    },
    {
     "ename": "TypeError",
     "evalue": "the 'package' argument is required to perform a relative import for './deeplearning'",
     "output_type": "error",
     "traceback": [
      "\u001b[1;31m---------------------------------------------------------------------------\u001b[0m",
      "\u001b[1;31mTypeError\u001b[0m                                 Traceback (most recent call last)",
      "Cell \u001b[1;32mIn[7], line 10\u001b[0m\n\u001b[0;32m      8\u001b[0m \u001b[39m#%matplotlib widget\u001b[39;00m\n\u001b[0;32m      9\u001b[0m \u001b[39mfrom\u001b[39;00m \u001b[39mipywidgets\u001b[39;00m \u001b[39mimport\u001b[39;00m Output\n\u001b[1;32m---> 10\u001b[0m \u001b[39mfrom\u001b[39;00m \u001b[39mplt_overfit\u001b[39;00m \u001b[39mimport\u001b[39;00m overfit_example, output\n\u001b[0;32m     11\u001b[0m \u001b[39mfrom\u001b[39;00m \u001b[39mlab_utils_logistic\u001b[39;00m \u001b[39mimport\u001b[39;00m sigmoid\n\u001b[0;32m     12\u001b[0m plt\u001b[39m.\u001b[39mstyle\u001b[39m.\u001b[39muse(\u001b[39m'\u001b[39m\u001b[39m./deeplearning.mplstyle\u001b[39m\u001b[39m'\u001b[39m)\n",
      "File \u001b[1;32mc:\\Users\\Sebas\\Documents\\code\\simulacionGrafica\\featureImages\\ML\\Supervised Learning\\plt_overfit.py:10\u001b[0m\n\u001b[0;32m      8\u001b[0m \u001b[39mfrom\u001b[39;00m \u001b[39mmatplotlib\u001b[39;00m\u001b[39m.\u001b[39;00m\u001b[39mwidgets\u001b[39;00m \u001b[39mimport\u001b[39;00m Button, CheckButtons\n\u001b[0;32m      9\u001b[0m \u001b[39mfrom\u001b[39;00m \u001b[39msklearn\u001b[39;00m\u001b[39m.\u001b[39;00m\u001b[39mlinear_model\u001b[39;00m \u001b[39mimport\u001b[39;00m LogisticRegression, Ridge\n\u001b[1;32m---> 10\u001b[0m \u001b[39mfrom\u001b[39;00m \u001b[39mlab_utils_logistic\u001b[39;00m \u001b[39mimport\u001b[39;00m np, plt, dlc, predict_logistic, plot_data, zscore_normalize_features\n\u001b[0;32m     13\u001b[0m \u001b[39mdef\u001b[39;00m \u001b[39mmap_one_feature\u001b[39m(X1, degree):\n\u001b[0;32m     14\u001b[0m \u001b[39m    \u001b[39m\u001b[39m\"\"\"\u001b[39;00m\n\u001b[0;32m     15\u001b[0m \u001b[39m    Feature mapping function to polynomial features\u001b[39;00m\n\u001b[0;32m     16\u001b[0m \u001b[39m    \"\"\"\u001b[39;00m\n",
      "File \u001b[1;32mc:\\Users\\Sebas\\Documents\\code\\simulacionGrafica\\featureImages\\ML\\Supervised Learning\\lab_utils_logistic.py:26\u001b[0m\n\u001b[0;32m     24\u001b[0m dlpurple \u001b[39m=\u001b[39m \u001b[39m'\u001b[39m\u001b[39m#7030A0\u001b[39m\u001b[39m'\u001b[39m\n\u001b[0;32m     25\u001b[0m dlcolors \u001b[39m=\u001b[39m [dlblue, dlorange, dldarkred, dlmagenta, dlpurple]\n\u001b[1;32m---> 26\u001b[0m plt\u001b[39m.\u001b[39;49mstyle\u001b[39m.\u001b[39;49muse(\u001b[39m'\u001b[39;49m\u001b[39m./deeplearning.mplstyle\u001b[39;49m\u001b[39m'\u001b[39;49m)\n\u001b[0;32m     29\u001b[0m \u001b[39mdef\u001b[39;00m \u001b[39msigmoid\u001b[39m(z):\n\u001b[0;32m     30\u001b[0m \u001b[39m    \u001b[39m\u001b[39m\"\"\"\u001b[39;00m\n\u001b[0;32m     31\u001b[0m \u001b[39m    Compute the sigmoid of z\u001b[39;00m\n\u001b[0;32m     32\u001b[0m \n\u001b[1;32m   (...)\u001b[0m\n\u001b[0;32m     41\u001b[0m \u001b[39m         sigmoid(z)\u001b[39;00m\n\u001b[0;32m     42\u001b[0m \u001b[39m    \"\"\"\u001b[39;00m\n",
      "File \u001b[1;32mc:\\Users\\Sebas\\AppData\\Local\\Programs\\Python\\Python311\\Lib\\site-packages\\matplotlib\\style\\core.py:153\u001b[0m, in \u001b[0;36muse\u001b[1;34m(style)\u001b[0m\n\u001b[0;32m    151\u001b[0m pkg, _, name \u001b[39m=\u001b[39m style\u001b[39m.\u001b[39mrpartition(\u001b[39m\"\u001b[39m\u001b[39m.\u001b[39m\u001b[39m\"\u001b[39m)\n\u001b[0;32m    152\u001b[0m \u001b[39mtry\u001b[39;00m:\n\u001b[1;32m--> 153\u001b[0m     path \u001b[39m=\u001b[39m (importlib_resources\u001b[39m.\u001b[39;49mfiles(pkg)\n\u001b[0;32m    154\u001b[0m             \u001b[39m/\u001b[39m \u001b[39mf\u001b[39m\u001b[39m\"\u001b[39m\u001b[39m{\u001b[39;00mname\u001b[39m}\u001b[39;00m\u001b[39m.\u001b[39m\u001b[39m{\u001b[39;00mSTYLE_EXTENSION\u001b[39m}\u001b[39;00m\u001b[39m\"\u001b[39m)\n\u001b[0;32m    155\u001b[0m     style \u001b[39m=\u001b[39m _rc_params_in_file(path)\n\u001b[0;32m    156\u001b[0m \u001b[39mexcept\u001b[39;00m (\u001b[39mModuleNotFoundError\u001b[39;00m, \u001b[39mIOError\u001b[39;00m) \u001b[39mas\u001b[39;00m exc:\n\u001b[0;32m    157\u001b[0m     \u001b[39m# There is an ambiguity whether a dotted name refers to a\u001b[39;00m\n\u001b[0;32m    158\u001b[0m     \u001b[39m# package.style_name or to a dotted file path.  Currently,\u001b[39;00m\n\u001b[1;32m   (...)\u001b[0m\n\u001b[0;32m    161\u001b[0m     \u001b[39m# either use Path objects or be prepended with \"./\" and use\u001b[39;00m\n\u001b[0;32m    162\u001b[0m     \u001b[39m# the slash as marker for file paths.\u001b[39;00m\n",
      "File \u001b[1;32mc:\\Users\\Sebas\\AppData\\Local\\Programs\\Python\\Python311\\Lib\\importlib\\resources\\_common.py:22\u001b[0m, in \u001b[0;36mfiles\u001b[1;34m(package)\u001b[0m\n\u001b[0;32m     17\u001b[0m \u001b[39mdef\u001b[39;00m \u001b[39mfiles\u001b[39m(package):\n\u001b[0;32m     18\u001b[0m     \u001b[39m# type: (Package) -> Traversable\u001b[39;00m\n\u001b[0;32m     19\u001b[0m \u001b[39m    \u001b[39m\u001b[39m\"\"\"\u001b[39;00m\n\u001b[0;32m     20\u001b[0m \u001b[39m    Get a Traversable resource from a package\u001b[39;00m\n\u001b[0;32m     21\u001b[0m \u001b[39m    \"\"\"\u001b[39;00m\n\u001b[1;32m---> 22\u001b[0m     \u001b[39mreturn\u001b[39;00m from_package(get_package(package))\n",
      "File \u001b[1;32mc:\\Users\\Sebas\\AppData\\Local\\Programs\\Python\\Python311\\Lib\\importlib\\resources\\_common.py:53\u001b[0m, in \u001b[0;36mget_package\u001b[1;34m(package)\u001b[0m\n\u001b[0;32m     47\u001b[0m \u001b[39mdef\u001b[39;00m \u001b[39mget_package\u001b[39m(package):\n\u001b[0;32m     48\u001b[0m     \u001b[39m# type: (Package) -> types.ModuleType\u001b[39;00m\n\u001b[0;32m     49\u001b[0m \u001b[39m    \u001b[39m\u001b[39m\"\"\"Take a package name or module object and return the module.\u001b[39;00m\n\u001b[0;32m     50\u001b[0m \n\u001b[0;32m     51\u001b[0m \u001b[39m    Raise an exception if the resolved module is not a package.\u001b[39;00m\n\u001b[0;32m     52\u001b[0m \u001b[39m    \"\"\"\u001b[39;00m\n\u001b[1;32m---> 53\u001b[0m     resolved \u001b[39m=\u001b[39m resolve(package)\n\u001b[0;32m     54\u001b[0m     \u001b[39mif\u001b[39;00m wrap_spec(resolved)\u001b[39m.\u001b[39msubmodule_search_locations \u001b[39mis\u001b[39;00m \u001b[39mNone\u001b[39;00m:\n\u001b[0;32m     55\u001b[0m         \u001b[39mraise\u001b[39;00m \u001b[39mTypeError\u001b[39;00m(\u001b[39mf\u001b[39m\u001b[39m'\u001b[39m\u001b[39m{\u001b[39;00mpackage\u001b[39m!r}\u001b[39;00m\u001b[39m is not a package\u001b[39m\u001b[39m'\u001b[39m)\n",
      "File \u001b[1;32mc:\\Users\\Sebas\\AppData\\Local\\Programs\\Python\\Python311\\Lib\\importlib\\resources\\_common.py:44\u001b[0m, in \u001b[0;36mresolve\u001b[1;34m(cand)\u001b[0m\n\u001b[0;32m     42\u001b[0m \u001b[39mdef\u001b[39;00m \u001b[39mresolve\u001b[39m(cand):\n\u001b[0;32m     43\u001b[0m     \u001b[39m# type: (Package) -> types.ModuleType\u001b[39;00m\n\u001b[1;32m---> 44\u001b[0m     \u001b[39mreturn\u001b[39;00m cand \u001b[39mif\u001b[39;00m \u001b[39misinstance\u001b[39m(cand, types\u001b[39m.\u001b[39mModuleType) \u001b[39melse\u001b[39;00m importlib\u001b[39m.\u001b[39;49mimport_module(cand)\n",
      "File \u001b[1;32mc:\\Users\\Sebas\\AppData\\Local\\Programs\\Python\\Python311\\Lib\\importlib\\__init__.py:121\u001b[0m, in \u001b[0;36mimport_module\u001b[1;34m(name, package)\u001b[0m\n\u001b[0;32m    118\u001b[0m \u001b[39mif\u001b[39;00m \u001b[39mnot\u001b[39;00m package:\n\u001b[0;32m    119\u001b[0m     msg \u001b[39m=\u001b[39m (\u001b[39m\"\u001b[39m\u001b[39mthe \u001b[39m\u001b[39m'\u001b[39m\u001b[39mpackage\u001b[39m\u001b[39m'\u001b[39m\u001b[39m argument is required to perform a relative \u001b[39m\u001b[39m\"\u001b[39m\n\u001b[0;32m    120\u001b[0m            \u001b[39m\"\u001b[39m\u001b[39mimport for \u001b[39m\u001b[39m{!r}\u001b[39;00m\u001b[39m\"\u001b[39m)\n\u001b[1;32m--> 121\u001b[0m     \u001b[39mraise\u001b[39;00m \u001b[39mTypeError\u001b[39;00m(msg\u001b[39m.\u001b[39mformat(name))\n\u001b[0;32m    122\u001b[0m \u001b[39mfor\u001b[39;00m character \u001b[39min\u001b[39;00m name:\n\u001b[0;32m    123\u001b[0m     \u001b[39mif\u001b[39;00m character \u001b[39m!=\u001b[39m \u001b[39m'\u001b[39m\u001b[39m.\u001b[39m\u001b[39m'\u001b[39m:\n",
      "\u001b[1;31mTypeError\u001b[0m: the 'package' argument is required to perform a relative import for './deeplearning'"
     ]
    }
   ],
   "source": [
    "%pip install ipywidgets\n",
    "\n",
    "import copy, math\n",
    "import numpy as np\n",
    "import pandas as pd\n",
    "import matplotlib.pyplot as plt\n",
    "#%matplotlib widget\n",
    "from ipywidgets import Output\n",
    "from plt_overfit import overfit_example, output\n",
    "from lab_utils_logistic import sigmoid\n",
    "plt.style.use('./deeplearning.mplstyle')"
   ]
  },
  {
   "attachments": {},
   "cell_type": "markdown",
   "metadata": {},
   "source": [
    "As any of the other regression algorithms we need a cost function, a gradient function and finally we will use it to do our approximation with the gradient descent algorithm."
   ]
  },
  {
   "attachments": {},
   "cell_type": "markdown",
   "metadata": {},
   "source": [
    "### Cost function (logistic)\n",
    "_____\n",
    "\n",
    "We will reuse the same cost function that we developed for binary logistic regression"
   ]
  },
  {
   "cell_type": "code",
   "execution_count": 6,
   "metadata": {},
   "outputs": [],
   "source": [
    "def compute_cost_logistic_reg(X, y, w, b, lambda_ = 1):\n",
    "    \"\"\"\n",
    "    Computes the cost over all examples\n",
    "    Args:\n",
    "    Args:\n",
    "      X (ndarray (m,n): Data, m examples with n features\n",
    "      y (ndarray (m,)): target values\n",
    "      w (ndarray (n,)): model parameters  \n",
    "      b (scalar)      : model parameter\n",
    "      lambda_ (scalar): Controls amount of regularization\n",
    "    Returns:\n",
    "      total_cost (scalar):  cost \n",
    "    \"\"\"\n",
    "\n",
    "    m,n  = X.shape\n",
    "    cost = 0.\n",
    "    for i in range(m):\n",
    "        z_i = np.dot(X[i], w) + b                                      #(n,)(n,)=scalar, see np.dot\n",
    "        f_wb_i = sigmoid(z_i)                                          #scalar\n",
    "        cost +=  -y[i]*np.log(f_wb_i) - (1-y[i])*np.log(1-f_wb_i)      #scalar\n",
    "             \n",
    "    cost = cost/m                                                      #scalar\n",
    "\n",
    "    reg_cost = 0\n",
    "    for j in range(n):\n",
    "        reg_cost += (w[j]**2)                                          #scalar\n",
    "    reg_cost = (lambda_/(2*m)) * reg_cost                              #scalar\n",
    "    \n",
    "    total_cost = cost + reg_cost                                       #scalar\n",
    "    return total_cost    "
   ]
  },
  {
   "attachments": {},
   "cell_type": "markdown",
   "metadata": {},
   "source": [
    "Let´s test it just to make sure it is as expected."
   ]
  },
  {
   "cell_type": "code",
   "execution_count": 7,
   "metadata": {},
   "outputs": [
    {
     "name": "stdout",
     "output_type": "stream",
     "text": [
      "Regularized cost: 0.6850849138741673\n"
     ]
    }
   ],
   "source": [
    "np.random.seed(1)\n",
    "X_tmp = np.random.rand(5,6)\n",
    "y_tmp = np.array([0,1,0,1,0])\n",
    "w_tmp = np.random.rand(X_tmp.shape[1]).reshape(-1,)-0.5\n",
    "b_tmp = 0.5\n",
    "lambda_tmp = 0.7\n",
    "cost_tmp = compute_cost_logistic_reg(X_tmp, y_tmp, w_tmp, b_tmp, lambda_tmp)\n",
    "\n",
    "print(\"Regularized cost:\", cost_tmp)"
   ]
  },
  {
   "attachments": {},
   "cell_type": "markdown",
   "metadata": {},
   "source": [
    "### Gradient function (logistic)\n",
    "_____\n",
    "We will also reuse the gradient function"
   ]
  },
  {
   "cell_type": "code",
   "execution_count": 8,
   "metadata": {},
   "outputs": [],
   "source": [
    "def compute_gradient_logistic_reg(X, y, w, b, lambda_): \n",
    "    \"\"\"\n",
    "    Computes the gradient for linear regression \n",
    " \n",
    "    Args:\n",
    "      X (ndarray (m,n): Data, m examples with n features\n",
    "      y (ndarray (m,)): target values\n",
    "      w (ndarray (n,)): model parameters  \n",
    "      b (scalar)      : model parameter\n",
    "      lambda_ (scalar): Controls amount of regularization\n",
    "    Returns\n",
    "      dj_dw (ndarray Shape (n,)): The gradient of the cost w.r.t. the parameters w. \n",
    "      dj_db (scalar)            : The gradient of the cost w.r.t. the parameter b. \n",
    "    \"\"\"\n",
    "    m,n = X.shape\n",
    "    dj_dw = np.zeros((n,))                            #(n,)\n",
    "    dj_db = 0.0                                       #scalar\n",
    "\n",
    "    for i in range(m):\n",
    "        f_wb_i = sigmoid(np.dot(X[i],w) + b)          #(n,)(n,)=scalar\n",
    "        err_i  = f_wb_i  - y[i]                       #scalar\n",
    "        for j in range(n):\n",
    "            dj_dw[j] = dj_dw[j] + err_i * X[i,j]      #scalar\n",
    "        dj_db = dj_db + err_i\n",
    "    dj_dw = dj_dw/m                                   #(n,)\n",
    "    dj_db = dj_db/m                                   #scalar\n",
    "\n",
    "    for j in range(n):\n",
    "        dj_dw[j] = dj_dw[j] + (lambda_/m) * w[j]\n",
    "\n",
    "    return dj_db, dj_dw  "
   ]
  },
  {
   "attachments": {},
   "cell_type": "markdown",
   "metadata": {},
   "source": [
    "Let's also test it."
   ]
  },
  {
   "cell_type": "code",
   "execution_count": 9,
   "metadata": {},
   "outputs": [
    {
     "name": "stdout",
     "output_type": "stream",
     "text": [
      "dj_db: 0.341798994972791\n",
      "Regularized dj_dw:\n",
      " [0.17380012933994293, 0.32007507881566943, 0.10776313396851499]\n"
     ]
    }
   ],
   "source": [
    "np.random.seed(1)\n",
    "X_tmp = np.random.rand(5,3)\n",
    "y_tmp = np.array([0,1,0,1,0])\n",
    "w_tmp = np.random.rand(X_tmp.shape[1])\n",
    "b_tmp = 0.5\n",
    "lambda_tmp = 0.7\n",
    "dj_db_tmp, dj_dw_tmp = compute_gradient_logistic_reg(X_tmp, y_tmp, w_tmp, b_tmp, lambda_tmp)\n",
    "\n",
    "print(f\"dj_db: {dj_db_tmp}\", )\n",
    "print(f\"Regularized dj_dw:\\n {dj_dw_tmp.tolist()}\", )"
   ]
  },
  {
   "attachments": {},
   "cell_type": "markdown",
   "metadata": {},
   "source": [
    "### Gradient descent \n",
    "_____"
   ]
  },
  {
   "cell_type": "code",
   "execution_count": 26,
   "metadata": {},
   "outputs": [],
   "source": [
    "def gradient_descent(X, y, w_in, b_in, alpha, r_lambda, num_iters): \n",
    "    \"\"\"\n",
    "    Performs batch gradient descent\n",
    "    \n",
    "    Args:\n",
    "      X (ndarray (m,n)   : Data, m examples with n features\n",
    "      y (ndarray (m,))   : target values\n",
    "      w_in (ndarray (n,)): Initial values of model parameters  \n",
    "      b_in (scalar)      : Initial values of model parameter\n",
    "      alpha (float)      : Learning rate\n",
    "      r_lambda (float)     : Regularization rate\n",
    "      num_iters (scalar) : number of iterations to run gradient descent\n",
    "      \n",
    "    Returns:\n",
    "      w (ndarray (n,))   : Updated values of parameters\n",
    "      b (scalar)         : Updated value of parameter \n",
    "    \"\"\"\n",
    "    # An array to store cost J and w's at each iteration primarily for graphing later\n",
    "    J_history = []\n",
    "    w = copy.deepcopy(w_in)  #avoid modifying global w within function\n",
    "    b = b_in\n",
    "    \n",
    "    for i in range(num_iters):\n",
    "        # Calculate the gradient and update the parameters\n",
    "        dj_db, dj_dw = compute_gradient_logistic_reg(X, y, w, b, r_lambda)   \n",
    "\n",
    "        # Update Parameters using w, b, alpha and gradient\n",
    "        w = w - alpha * dj_dw               \n",
    "        b = b - alpha * dj_db               \n",
    "      \n",
    "        # Save cost J at each iteration\n",
    "        if i<100000:      # prevent resource exhaustion \n",
    "            J_history.append( compute_cost_logistic_reg(X, y, w, b, r_lambda) )\n",
    "\n",
    "        # Print cost every at intervals 10 times or as many iterations if < 10\n",
    "        if i% math.ceil(num_iters / 10) == 0:\n",
    "            print(f\"Iteration {i:4d}: Cost {J_history[-1]}   \")\n",
    "        \n",
    "    return w, b, J_history"
   ]
  },
  {
   "cell_type": "code",
   "execution_count": 29,
   "metadata": {},
   "outputs": [
    {
     "name": "stdout",
     "output_type": "stream",
     "text": [
      "Iteration    0: Cost 0.7222521138705761   \n",
      "Iteration 1000: Cost 0.679625104983815   \n",
      "Iteration 2000: Cost 0.6796251049676806   \n",
      "Iteration 3000: Cost 0.6796251049676807   \n",
      "Iteration 4000: Cost 0.6796251049676808   \n",
      "Iteration 5000: Cost 0.6796251049676806   \n",
      "Iteration 6000: Cost 0.6796251049676806   \n",
      "Iteration 7000: Cost 0.6796251049676806   \n",
      "Iteration 8000: Cost 0.6796251049676806   \n",
      "Iteration 9000: Cost 0.6796251049676806   \n",
      "\n",
      "updated parameters: w:[0.09 0.22], b:0.12701785555103418\n"
     ]
    }
   ],
   "source": [
    "x_train = np.random.rand(7,2)\n",
    "y_train = np.array([0, 0, 0, 1, 1, 1, 1])\n",
    "\n",
    "w_in = np.random.rand(x_train.shape[1])\n",
    "b_in = 0.5\n",
    "\n",
    "alph = 0.1\n",
    "r_lambda = 0.7\n",
    "iters = 10000\n",
    "\n",
    "w_out, b_out, _ = gradient_descent(x_train, y_train, w_in, b_in, alph, r_lambda, iters) \n",
    "print(f\"\\nupdated parameters: w:{w_out}, b:{b_out}\")"
   ]
  },
  {
   "attachments": {},
   "cell_type": "markdown",
   "metadata": {},
   "source": [
    "## The changes"
   ]
  },
  {
   "attachments": {},
   "cell_type": "markdown",
   "metadata": {},
   "source": [
    "The implementation of Multiclass classification follows the same ideas as the binary classification. In multi-class classification, we have more than two classes. Here is an example. Say, we have different features and characteristics of cars, trucks, bikes, and boats as input features. Our job is to predict the label(car, truck, bike, or boat). We will treat each class as a binary classification problem; this approach is called the __one vs all method__.\n",
    "\n",
    "In the one vs all method, when we work with a class, that class is denoted by 1 and the rest of the classes becomes 0. For example, if we have four classes: cars, trucks, bikes, and boats. When we will work on the car, we will use the car as 1 and the rest of the classes as zeros. Again, when we will work on the truck, the element of the truck will be one, and the rest of the classes will be zeros\n",
    "\n",
    "| Car | Truck | Bike | Boat |\n",
    "| --- | --- | --- | --- |\n",
    "| 1 | 0 | 0 | 0 |\n",
    "| 0 | 1 | 0 | 0 |\n",
    "| 0 | 0 | 1 | 0 |\n",
    "| 0 | 0 | 0 | 1 |\n",
    "\n",
    "\n",
    "We will make one column for each of the classes with the same length as y. When the class is truck, we will make a column that has 1 for the rows with trucks and 0 otherwise.\n",
    "\n",
    "We will create a function that will produce a temporary y vector that will only have 1's for the selected class, and 0's for the rest."
   ]
  },
  {
   "cell_type": "code",
   "execution_count": 30,
   "metadata": {},
   "outputs": [],
   "source": [
    "def y_change(y, cl):\n",
    "    \"\"\"\n",
    "    Creates an independent y vector that only holds 1's for\n",
    "    the selected class and zero for the rest\n",
    "    \n",
    "    Args:\n",
    "      y (ndarray (m,)) : target values\n",
    "      cl (scalar)      : The class we are studying.\n",
    "      \n",
    "    Returns:\n",
    "      y_pr (ndarray (n,))   : Array holding only 1's for the \n",
    "                              analyzed class.\n",
    "    \"\"\"\n",
    "    y_pr=[]\n",
    "    for i in range(0, len(y)):\n",
    "        if y[i] == cl:\n",
    "            y_pr.append(1)\n",
    "        else:\n",
    "            y_pr.append(0)\n",
    "    return y_pr"
   ]
  },
  {
   "attachments": {},
   "cell_type": "markdown",
   "metadata": {},
   "source": [
    "We will create a function that will produce the w values that will separate the i-th class"
   ]
  },
  {
   "cell_type": "code",
   "execution_count": 63,
   "metadata": {},
   "outputs": [],
   "source": [
    "def find_param(X, y):\n",
    "    \"\"\"\n",
    "    Creates the w_i vector for the given class.\n",
    "    \n",
    "    Args:\n",
    "      X (ndarray (m,n)    : Data, m examples with n features\n",
    "      y (ndarray (m,))    : Target values\n",
    "      \n",
    "    Returns:\n",
    "      theta_list (ndarray (n,)) : This is a matrix that will hold a row for the w values\n",
    "                                  for every i class. \n",
    "    \"\"\"\n",
    "    w_in = np.random.rand(x_train.shape[1])\n",
    "    b_in = 0.5\n",
    "\n",
    "    alph = 0.1\n",
    "    r_lambda = 0.7\n",
    "    iters = 1000\n",
    "\n",
    "    y_uniq = list(set(y.flatten()))\n",
    "    theta_list = []\n",
    "    for i in y_uniq:\n",
    "        y_tr = pd.Series(y_change(y, i))\n",
    "        # y_tr = y_tr[:, np.newaxis]\n",
    "        np.array(y_tr)[:, np.newaxis]\n",
    "        print(f\"\\n\\nWe will find the weights for class: {i}\")\n",
    "        theta1, _ , _ = gradient_descent(x_train, y_train, w_in, b_in, alph, r_lambda, iters) \n",
    "        theta_list.append(theta1)\n",
    "    return theta_list"
   ]
  },
  {
   "attachments": {},
   "cell_type": "markdown",
   "metadata": {},
   "source": [
    "Finally, we will create a function that should give us the proper class for every entry."
   ]
  },
  {
   "cell_type": "code",
   "execution_count": 44,
   "metadata": {},
   "outputs": [],
   "source": [
    "def predict(theta_list, X, y):\n",
    "    y_uniq = list(set(y.flatten()))\n",
    "    y_hat = [0]*len(y)\n",
    "    for i in range(0, len(y_uniq)):\n",
    "        y_tr = y_change(y, y_uniq[i])\n",
    "        # y1 = sigmoid(x, theta_list[i])\n",
    "        y1 = sigmoid(np.dot(X, theta_list[i]))\n",
    "        for k in range(0, len(y)):\n",
    "            if y_tr[k] == 1 and y1[k] >= 0.5:\n",
    "                y_hat[k] = y_uniq[i]\n",
    "    return y_hat"
   ]
  },
  {
   "attachments": {},
   "cell_type": "markdown",
   "metadata": {},
   "source": [
    "Let's test it. First, we will create the list of our weights for each class."
   ]
  },
  {
   "cell_type": "code",
   "execution_count": 64,
   "metadata": {},
   "outputs": [
    {
     "name": "stdout",
     "output_type": "stream",
     "text": [
      "\n",
      "\n",
      "We will find the weights for class: 0\n",
      "Iteration    0: Cost 0.03311074979337357   \n",
      "Iteration  100: Cost -0.35291858486116523   \n",
      "Iteration  200: Cost -0.4734772215438414   \n",
      "Iteration  300: Cost -0.5674332185095058   \n",
      "Iteration  400: Cost -0.6541112810904905   \n",
      "Iteration  500: Cost -0.7382866288340011   \n",
      "Iteration  600: Cost -0.821527064964211   \n",
      "Iteration  700: Cost -0.904406348920243   \n",
      "Iteration  800: Cost -0.9871440004520381   \n",
      "Iteration  900: Cost -1.069825663297314   \n",
      "\n",
      "\n",
      "We will find the weights for class: 1\n",
      "Iteration    0: Cost 0.03311074979337357   \n",
      "Iteration  100: Cost -0.35291858486116523   \n",
      "Iteration  200: Cost -0.4734772215438414   \n",
      "Iteration  300: Cost -0.5674332185095058   \n",
      "Iteration  400: Cost -0.6541112810904905   \n",
      "Iteration  500: Cost -0.7382866288340011   \n",
      "Iteration  600: Cost -0.821527064964211   \n",
      "Iteration  700: Cost -0.904406348920243   \n",
      "Iteration  800: Cost -0.9871440004520381   \n",
      "Iteration  900: Cost -1.069825663297314   \n",
      "\n",
      "\n",
      "We will find the weights for class: 2\n",
      "Iteration    0: Cost 0.03311074979337357   \n",
      "Iteration  100: Cost -0.35291858486116523   \n",
      "Iteration  200: Cost -0.4734772215438414   \n",
      "Iteration  300: Cost -0.5674332185095058   \n",
      "Iteration  400: Cost -0.6541112810904905   \n",
      "Iteration  500: Cost -0.7382866288340011   \n",
      "Iteration  600: Cost -0.821527064964211   \n",
      "Iteration  700: Cost -0.904406348920243   \n",
      "Iteration  800: Cost -0.9871440004520381   \n",
      "Iteration  900: Cost -1.069825663297314   \n"
     ]
    }
   ],
   "source": [
    "# Create an 11 by 3 random matrix\n",
    "x_train = np.random.rand(11,3)\n",
    "y_train = np.array([0,  0, 0, 1, 1, 1, 1, 2, 2, 2, 2])\n",
    "\n",
    "theta_list = find_param(x_train, y_train)\n"
   ]
  },
  {
   "attachments": {},
   "cell_type": "markdown",
   "metadata": {},
   "source": [
    "Now that we have it, we can run our prediction."
   ]
  },
  {
   "cell_type": "code",
   "execution_count": 60,
   "metadata": {},
   "outputs": [],
   "source": [
    "y_hat = predict(theta_list, x_train, y_train)"
   ]
  },
  {
   "cell_type": "code",
   "execution_count": 61,
   "metadata": {},
   "outputs": [
    {
     "data": {
      "text/plain": [
       "[0, 0, 0, 1, 1, 1, 1, 2, 2, 2, 2]"
      ]
     },
     "execution_count": 61,
     "metadata": {},
     "output_type": "execute_result"
    }
   ],
   "source": [
    "y_hat"
   ]
  },
  {
   "attachments": {},
   "cell_type": "markdown",
   "metadata": {},
   "source": [
    "We can now even observe the results."
   ]
  },
  {
   "cell_type": "code",
   "execution_count": 65,
   "metadata": {},
   "outputs": [
    {
     "data": {
      "application/vnd.jupyter.widget-view+json": {
       "model_id": "669f49e2d9dc4c4a9cff8dab1ac77608",
       "version_major": 2,
       "version_minor": 0
      },
      "image/png": "[encoded data removed]",
      "text/html": [
       "\n",
       "            <div style=\"display: inline-block;\">\n",
       "                <div class=\"jupyter-widgets widget-label\" style=\"text-align: center;\">\n",
       "                    Figure\n",
       "                </div>\n",
       "                <img src='data:image/png;base64,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' width=640.0/>\n",
       "            </div>\n",
       "        "
      ],
      "text/plain": [
       "Canvas(toolbar=Toolbar(toolitems=[('Home', 'Reset original view', 'home', 'home'), ('Back', 'Back to previous …"
      ]
     },
     "metadata": {},
     "output_type": "display_data"
    }
   ],
   "source": [
    "#Plotting the actual and predicted values\n",
    "f1 = plt.figure()\n",
    "c = [i for i in range (1,len(y_train)+1,1)]\n",
    "plt.plot(c,y_train,color='r',linestyle='-')\n",
    "plt.plot(c,y_hat,color='b',linestyle='-')\n",
    "plt.xlabel('Value')\n",
    "plt.ylabel('Class')\n",
    "plt.title('Actual vs. Predicted')\n",
    "plt.show()"
   ]
  },
  {
   "cell_type": "code",
   "execution_count": 56,
   "metadata": {},
   "outputs": [
    {
     "data": {
      "application/vnd.jupyter.widget-view+json": {
       "model_id": "24b568618b9b4ac4996ddf97aa486aa1",
       "version_major": 2,
       "version_minor": 0
      },
      "image/png": "[encoded data removed]",
      "text/html": [
       "\n",
       "            <div style=\"display: inline-block;\">\n",
       "                <div class=\"jupyter-widgets widget-label\" style=\"text-align: center;\">\n",
       "                    Figure\n",
       "                </div>\n",
       "                <img src='data:image/png;base64,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' width=640.0/>\n",
       "            </div>\n",
       "        "
      ],
      "text/plain": [
       "Canvas(toolbar=Toolbar(toolitems=[('Home', 'Reset original view', 'home', 'home'), ('Back', 'Back to previous …"
      ]
     },
     "metadata": {},
     "output_type": "display_data"
    }
   ],
   "source": [
    "#Plotting the error\n",
    "f1 = plt.figure()\n",
    "c = [i for i in range(1,len(y_train)+1,1)]\n",
    "plt.plot(c,y_train-y_hat,color='green',linestyle='-')\n",
    "plt.xlabel('index')\n",
    "plt.ylabel('Error')\n",
    "plt.title('Error Value')\n",
    "plt.show()"
   ]
  }
 ],
 "metadata": {
  "kernelspec": {
   "display_name": "Python 3.10.0 64-bit",
   "language": "python",
   "name": "python3"
  },
  "language_info": {
   "codemirror_mode": {
    "name": "ipython",
    "version": 3
   },
   "file_extension": ".py",
   "mimetype": "text/x-python",
   "name": "python",
   "nbconvert_exporter": "python",
   "pygments_lexer": "ipython3",
   "version": "3.11.2"
  },
  "orig_nbformat": 4,
  "vscode": {
   "interpreter": {
    "hash": "369f2c481f4da34e4445cda3fffd2e751bd1c4d706f27375911949ba6bb62e1c"
   }
  }
 },
 "nbformat": 4,
 "nbformat_minor": 2
}
